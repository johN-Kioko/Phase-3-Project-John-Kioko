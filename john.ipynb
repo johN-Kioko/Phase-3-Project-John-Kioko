{
 "cells": [
  {
   "cell_type": "markdown",
   "source": [
    "## Phase 3 Project\n",
    "* John KIoko Mutuku"
   ],
   "metadata": {
    "collapsed": false
   },
   "id": "e053405422e0c6d0"
  },
  {
   "cell_type": "markdown",
   "source": [
    "## INTRODUCTION\n",
    "This data-driven project focuses on predicting H1N1 vaccine uptake by employing advanced analytics and machine learning. The goal is to understand and influence factors affecting vaccine acceptance amidst evolving public health challenges. The project utilizes diverse variables such as demographics and health opinions, employing techniques like exploratory data analysis, feature engineering, and machine learning algorithms like logistic regression and decision trees. The objective is not just accurate predictions but actionable insights to improve vaccination coverage and strengthen public health initiatives, blending quantitative analytics with advocacy for proactive healthcare strategies."
   ],
   "metadata": {
    "collapsed": false
   },
   "id": "da4b110cdafea993"
  },
  {
   "cell_type": "markdown",
   "source": [
    "## PROBLEM STATEMENT\n",
    "Recent flu outbreaks, including COVID-19, H1N1, and H5N1, underscore the global health impact of flu. Despite effective vaccines, low vaccination rates persist in the US, averaging 57.8% in 2022 according to CDC estimates. To address this, we aim to investigate reasons behind vaccine hesitancy, focusing on understanding key factors influencing opinions, perceptions, and behaviors related to flu vaccination."
   ],
   "metadata": {
    "collapsed": false
   },
   "id": "5a5d8ce9e1ddda4e"
  },
  {
   "cell_type": "markdown",
   "source": [
    "## OBJECTIVES AND GOALS\n",
    "This data science project aims to develop a predictive model to assess H1N1 and Seasonal flu vaccine likelihood based on demographics and attitudes. Factors considered include opinions, demographics (age, education, employment, income), behaviors (handwashing, masking, crowd avoidance), and the influence of doctors' recommendations. The objective is to analyze these factors and provide insights into individuals' decision-making on flu vaccination, enabling targeted strategies by governments and healthcare organizations to enhance vaccination rates and public health outcomes"
   ],
   "metadata": {
    "collapsed": false
   },
   "id": "96a806038236d1c7"
  },
  {
   "cell_type": "markdown",
   "source": [
    "### DATA UNDERSTANDING"
   ],
   "metadata": {
    "collapsed": false
   },
   "id": "dec4b6a29f9ea62c"
  },
  {
   "cell_type": "code",
   "execution_count": 1,
   "outputs": [],
   "source": [
    "# Importing Necessary Libraries\n",
    "\n",
    "import pandas as pd\n",
    "import numpy as np\n",
    "import seaborn as sns\n",
    "import matplotlib.pyplot as plt\n",
    "import warnings\n",
    "warnings.filterwarnings(\"ignore\")\n",
    "from sklearn.model_selection import train_test_split, GridSearchCV\n",
    "\n",
    "from sklearn.preprocessing import MinMaxScaler, StandardScaler\n",
    "from sklearn.feature_selection import SelectKBest, chi2\n",
    "from sklearn.ensemble import RandomForestClassifier, ExtraTreesClassifier\n",
    "from sklearn.metrics import accuracy_score, confusion_matrix, classification_report, roc_curve, roc_auc_score\n",
    "from sklearn.decomposition import PCA\n",
    "from sklearn.impute import SimpleImputer\n",
    "from sklearn.compose import ColumnTransformer\n",
    "from sklearn.multioutput import MultiOutputClassifier\n",
    "from sklearn.preprocessing import LabelEncoder, MinMaxScaler\n",
    "from sklearn.tree import DecisionTreeClassifier\n",
    "from sklearn.pipeline import Pipeline\n",
    "from sklearn.linear_model import LogisticRegression\n",
    "from sklearn.ensemble import RandomForestClassifier, ExtraTreesClassifier\n",
    "from sklearn.neighbors import KNeighborsClassifier\n",
    "\n",
    "import pandas as pd\n",
    "from sklearn.model_selection import cross_val_score, cross_val_predict, train_test_split\n",
    "from sklearn import datasets\n",
    "from sklearn.linear_model import LogisticRegression\n",
    "from sklearn.tree import DecisionTreeClassifier\n",
    "from sklearn.ensemble import RandomForestClassifier\n",
    "from sklearn.neighbors import KNeighborsClassifier\n",
    "from sklearn.naive_bayes import GaussianNB\n",
    "from sklearn.discriminant_analysis import LinearDiscriminantAnalysis\n",
    "from sklearn.ensemble import AdaBoostClassifier\n",
    "from sklearn.metrics import accuracy_score, recall_score, precision_score"
   ],
   "metadata": {
    "collapsed": false,
    "ExecuteTime": {
     "end_time": "2023-11-28T06:20:13.830351500Z",
     "start_time": "2023-11-28T06:20:08.503456200Z"
    }
   },
   "id": "9ec787f76f65d89b"
  },
  {
   "cell_type": "code",
   "execution_count": 2,
   "outputs": [
    {
     "name": "stdout",
     "output_type": "stream",
     "text": [
      "Collecting tabulate\n",
      "  Downloading tabulate-0.9.0-py3-none-any.whl (35 kB)\n",
      "Installing collected packages: tabulate\n",
      "Successfully installed tabulate-0.9.0\n"
     ]
    }
   ],
   "source": [
    "!pip install tabulate"
   ],
   "metadata": {
    "collapsed": false,
    "ExecuteTime": {
     "end_time": "2023-11-28T06:20:30.051180900Z",
     "start_time": "2023-11-28T06:20:23.393485600Z"
    }
   },
   "id": "cc7f056d02d2f0aa"
  },
  {
   "cell_type": "markdown",
   "source": [
    "#### DATA EXPLORATION\n",
    "Loading data Into Dataframes"
   ],
   "metadata": {
    "collapsed": false
   },
   "id": "3a5d99d3c44c9d87"
  },
  {
   "cell_type": "code",
   "execution_count": 4,
   "outputs": [
    {
     "data": {
      "text/plain": "   respondent_id  h1n1_concern  h1n1_knowledge  behavioral_antiviral_meds  \\\n0              0           1.0             0.0                        0.0   \n1              1           3.0             2.0                        0.0   \n2              2           1.0             1.0                        0.0   \n3              3           1.0             1.0                        0.0   \n4              4           2.0             1.0                        0.0   \n5              5           3.0             1.0                        0.0   \n6              6           0.0             0.0                        0.0   \n7              7           1.0             0.0                        0.0   \n8              8           0.0             2.0                        0.0   \n9              9           2.0             1.0                        0.0   \n\n   behavioral_avoidance  behavioral_face_mask  behavioral_wash_hands  \\\n0                   0.0                   0.0                    0.0   \n1                   1.0                   0.0                    1.0   \n2                   1.0                   0.0                    0.0   \n3                   1.0                   0.0                    1.0   \n4                   1.0                   0.0                    1.0   \n5                   1.0                   0.0                    1.0   \n6                   0.0                   0.0                    0.0   \n7                   1.0                   0.0                    1.0   \n8                   1.0                   0.0                    1.0   \n9                   1.0                   0.0                    0.0   \n\n   behavioral_large_gatherings  behavioral_outside_home  \\\n0                          0.0                      1.0   \n1                          0.0                      1.0   \n2                          0.0                      0.0   \n3                          1.0                      0.0   \n4                          1.0                      0.0   \n5                          0.0                      0.0   \n6                          0.0                      0.0   \n7                          0.0                      0.0   \n8                          1.0                      1.0   \n9                          1.0                      0.0   \n\n   behavioral_touch_face  ...             income_poverty  marital_status  \\\n0                    1.0  ...              Below Poverty     Not Married   \n1                    1.0  ...              Below Poverty     Not Married   \n2                    0.0  ...  <= $75,000, Above Poverty     Not Married   \n3                    0.0  ...              Below Poverty     Not Married   \n4                    1.0  ...  <= $75,000, Above Poverty         Married   \n5                    1.0  ...  <= $75,000, Above Poverty         Married   \n6                    0.0  ...  <= $75,000, Above Poverty     Not Married   \n7                    1.0  ...  <= $75,000, Above Poverty         Married   \n8                    1.0  ...                  > $75,000         Married   \n9                    1.0  ...  <= $75,000, Above Poverty     Not Married   \n\n   rent_or_own   employment_status  hhs_geo_region                census_msa  \\\n0          Own  Not in Labor Force        oxchjgsf                   Non-MSA   \n1         Rent            Employed        bhuqouqj  MSA, Not Principle  City   \n2          Own            Employed        qufhixun  MSA, Not Principle  City   \n3         Rent  Not in Labor Force        lrircsnp       MSA, Principle City   \n4          Own            Employed        qufhixun  MSA, Not Principle  City   \n5          Own            Employed        atmpeygn       MSA, Principle City   \n6          Own            Employed        qufhixun  MSA, Not Principle  City   \n7          Own            Employed        bhuqouqj                   Non-MSA   \n8          Own            Employed        bhuqouqj  MSA, Not Principle  City   \n9          Own  Not in Labor Force        qufhixun  MSA, Not Principle  City   \n\n   household_adults  household_children  employment_industry  \\\n0               0.0                 0.0                  NaN   \n1               0.0                 0.0             pxcmvdjn   \n2               2.0                 0.0             rucpziij   \n3               0.0                 0.0                  NaN   \n4               1.0                 0.0             wxleyezf   \n5               2.0                 3.0             saaquncn   \n6               0.0                 0.0             xicduogh   \n7               2.0                 0.0             pxcmvdjn   \n8               1.0                 0.0             xicduogh   \n9               0.0                 0.0                  NaN   \n\n   employment_occupation  \n0                    NaN  \n1               xgwztkwe  \n2               xtkaffoo  \n3                    NaN  \n4               emcorrxb  \n5               vlluhbov  \n6               xtkaffoo  \n7               xqwwgdyp  \n8               ccgxvspp  \n9                    NaN  \n\n[10 rows x 36 columns]",
      "text/html": "<div>\n<style scoped>\n    .dataframe tbody tr th:only-of-type {\n        vertical-align: middle;\n    }\n\n    .dataframe tbody tr th {\n        vertical-align: top;\n    }\n\n    .dataframe thead th {\n        text-align: right;\n    }\n</style>\n<table border=\"1\" class=\"dataframe\">\n  <thead>\n    <tr style=\"text-align: right;\">\n      <th></th>\n      <th>respondent_id</th>\n      <th>h1n1_concern</th>\n      <th>h1n1_knowledge</th>\n      <th>behavioral_antiviral_meds</th>\n      <th>behavioral_avoidance</th>\n      <th>behavioral_face_mask</th>\n      <th>behavioral_wash_hands</th>\n      <th>behavioral_large_gatherings</th>\n      <th>behavioral_outside_home</th>\n      <th>behavioral_touch_face</th>\n      <th>...</th>\n      <th>income_poverty</th>\n      <th>marital_status</th>\n      <th>rent_or_own</th>\n      <th>employment_status</th>\n      <th>hhs_geo_region</th>\n      <th>census_msa</th>\n      <th>household_adults</th>\n      <th>household_children</th>\n      <th>employment_industry</th>\n      <th>employment_occupation</th>\n    </tr>\n  </thead>\n  <tbody>\n    <tr>\n      <th>0</th>\n      <td>0</td>\n      <td>1.0</td>\n      <td>0.0</td>\n      <td>0.0</td>\n      <td>0.0</td>\n      <td>0.0</td>\n      <td>0.0</td>\n      <td>0.0</td>\n      <td>1.0</td>\n      <td>1.0</td>\n      <td>...</td>\n      <td>Below Poverty</td>\n      <td>Not Married</td>\n      <td>Own</td>\n      <td>Not in Labor Force</td>\n      <td>oxchjgsf</td>\n      <td>Non-MSA</td>\n      <td>0.0</td>\n      <td>0.0</td>\n      <td>NaN</td>\n      <td>NaN</td>\n    </tr>\n    <tr>\n      <th>1</th>\n      <td>1</td>\n      <td>3.0</td>\n      <td>2.0</td>\n      <td>0.0</td>\n      <td>1.0</td>\n      <td>0.0</td>\n      <td>1.0</td>\n      <td>0.0</td>\n      <td>1.0</td>\n      <td>1.0</td>\n      <td>...</td>\n      <td>Below Poverty</td>\n      <td>Not Married</td>\n      <td>Rent</td>\n      <td>Employed</td>\n      <td>bhuqouqj</td>\n      <td>MSA, Not Principle  City</td>\n      <td>0.0</td>\n      <td>0.0</td>\n      <td>pxcmvdjn</td>\n      <td>xgwztkwe</td>\n    </tr>\n    <tr>\n      <th>2</th>\n      <td>2</td>\n      <td>1.0</td>\n      <td>1.0</td>\n      <td>0.0</td>\n      <td>1.0</td>\n      <td>0.0</td>\n      <td>0.0</td>\n      <td>0.0</td>\n      <td>0.0</td>\n      <td>0.0</td>\n      <td>...</td>\n      <td>&lt;= $75,000, Above Poverty</td>\n      <td>Not Married</td>\n      <td>Own</td>\n      <td>Employed</td>\n      <td>qufhixun</td>\n      <td>MSA, Not Principle  City</td>\n      <td>2.0</td>\n      <td>0.0</td>\n      <td>rucpziij</td>\n      <td>xtkaffoo</td>\n    </tr>\n    <tr>\n      <th>3</th>\n      <td>3</td>\n      <td>1.0</td>\n      <td>1.0</td>\n      <td>0.0</td>\n      <td>1.0</td>\n      <td>0.0</td>\n      <td>1.0</td>\n      <td>1.0</td>\n      <td>0.0</td>\n      <td>0.0</td>\n      <td>...</td>\n      <td>Below Poverty</td>\n      <td>Not Married</td>\n      <td>Rent</td>\n      <td>Not in Labor Force</td>\n      <td>lrircsnp</td>\n      <td>MSA, Principle City</td>\n      <td>0.0</td>\n      <td>0.0</td>\n      <td>NaN</td>\n      <td>NaN</td>\n    </tr>\n    <tr>\n      <th>4</th>\n      <td>4</td>\n      <td>2.0</td>\n      <td>1.0</td>\n      <td>0.0</td>\n      <td>1.0</td>\n      <td>0.0</td>\n      <td>1.0</td>\n      <td>1.0</td>\n      <td>0.0</td>\n      <td>1.0</td>\n      <td>...</td>\n      <td>&lt;= $75,000, Above Poverty</td>\n      <td>Married</td>\n      <td>Own</td>\n      <td>Employed</td>\n      <td>qufhixun</td>\n      <td>MSA, Not Principle  City</td>\n      <td>1.0</td>\n      <td>0.0</td>\n      <td>wxleyezf</td>\n      <td>emcorrxb</td>\n    </tr>\n    <tr>\n      <th>5</th>\n      <td>5</td>\n      <td>3.0</td>\n      <td>1.0</td>\n      <td>0.0</td>\n      <td>1.0</td>\n      <td>0.0</td>\n      <td>1.0</td>\n      <td>0.0</td>\n      <td>0.0</td>\n      <td>1.0</td>\n      <td>...</td>\n      <td>&lt;= $75,000, Above Poverty</td>\n      <td>Married</td>\n      <td>Own</td>\n      <td>Employed</td>\n      <td>atmpeygn</td>\n      <td>MSA, Principle City</td>\n      <td>2.0</td>\n      <td>3.0</td>\n      <td>saaquncn</td>\n      <td>vlluhbov</td>\n    </tr>\n    <tr>\n      <th>6</th>\n      <td>6</td>\n      <td>0.0</td>\n      <td>0.0</td>\n      <td>0.0</td>\n      <td>0.0</td>\n      <td>0.0</td>\n      <td>0.0</td>\n      <td>0.0</td>\n      <td>0.0</td>\n      <td>0.0</td>\n      <td>...</td>\n      <td>&lt;= $75,000, Above Poverty</td>\n      <td>Not Married</td>\n      <td>Own</td>\n      <td>Employed</td>\n      <td>qufhixun</td>\n      <td>MSA, Not Principle  City</td>\n      <td>0.0</td>\n      <td>0.0</td>\n      <td>xicduogh</td>\n      <td>xtkaffoo</td>\n    </tr>\n    <tr>\n      <th>7</th>\n      <td>7</td>\n      <td>1.0</td>\n      <td>0.0</td>\n      <td>0.0</td>\n      <td>1.0</td>\n      <td>0.0</td>\n      <td>1.0</td>\n      <td>0.0</td>\n      <td>0.0</td>\n      <td>1.0</td>\n      <td>...</td>\n      <td>&lt;= $75,000, Above Poverty</td>\n      <td>Married</td>\n      <td>Own</td>\n      <td>Employed</td>\n      <td>bhuqouqj</td>\n      <td>Non-MSA</td>\n      <td>2.0</td>\n      <td>0.0</td>\n      <td>pxcmvdjn</td>\n      <td>xqwwgdyp</td>\n    </tr>\n    <tr>\n      <th>8</th>\n      <td>8</td>\n      <td>0.0</td>\n      <td>2.0</td>\n      <td>0.0</td>\n      <td>1.0</td>\n      <td>0.0</td>\n      <td>1.0</td>\n      <td>1.0</td>\n      <td>1.0</td>\n      <td>1.0</td>\n      <td>...</td>\n      <td>&gt; $75,000</td>\n      <td>Married</td>\n      <td>Own</td>\n      <td>Employed</td>\n      <td>bhuqouqj</td>\n      <td>MSA, Not Principle  City</td>\n      <td>1.0</td>\n      <td>0.0</td>\n      <td>xicduogh</td>\n      <td>ccgxvspp</td>\n    </tr>\n    <tr>\n      <th>9</th>\n      <td>9</td>\n      <td>2.0</td>\n      <td>1.0</td>\n      <td>0.0</td>\n      <td>1.0</td>\n      <td>0.0</td>\n      <td>0.0</td>\n      <td>1.0</td>\n      <td>0.0</td>\n      <td>1.0</td>\n      <td>...</td>\n      <td>&lt;= $75,000, Above Poverty</td>\n      <td>Not Married</td>\n      <td>Own</td>\n      <td>Not in Labor Force</td>\n      <td>qufhixun</td>\n      <td>MSA, Not Principle  City</td>\n      <td>0.0</td>\n      <td>0.0</td>\n      <td>NaN</td>\n      <td>NaN</td>\n    </tr>\n  </tbody>\n</table>\n<p>10 rows × 36 columns</p>\n</div>"
     },
     "execution_count": 4,
     "metadata": {},
     "output_type": "execute_result"
    }
   ],
   "source": [
    "# Loading the characteristics of the respondents\n",
    "data_1 = pd.read_csv(\"Flu_Datasets/training_set_features (1).csv\")\n",
    "data_1.head(10)"
   ],
   "metadata": {
    "collapsed": false,
    "ExecuteTime": {
     "end_time": "2023-11-28T06:25:23.444325600Z",
     "start_time": "2023-11-28T06:25:23.226124500Z"
    }
   },
   "id": "7b0e866f1dcf96ab"
  },
  {
   "cell_type": "code",
   "execution_count": 5,
   "outputs": [
    {
     "data": {
      "text/plain": "   respondent_id  h1n1_vaccine  seasonal_vaccine\n0              0             0                 0\n1              1             0                 1\n2              2             0                 0\n3              3             0                 1\n4              4             0                 0\n5              5             0                 0\n6              6             0                 0\n7              7             1                 1\n8              8             0                 0\n9              9             0                 0",
      "text/html": "<div>\n<style scoped>\n    .dataframe tbody tr th:only-of-type {\n        vertical-align: middle;\n    }\n\n    .dataframe tbody tr th {\n        vertical-align: top;\n    }\n\n    .dataframe thead th {\n        text-align: right;\n    }\n</style>\n<table border=\"1\" class=\"dataframe\">\n  <thead>\n    <tr style=\"text-align: right;\">\n      <th></th>\n      <th>respondent_id</th>\n      <th>h1n1_vaccine</th>\n      <th>seasonal_vaccine</th>\n    </tr>\n  </thead>\n  <tbody>\n    <tr>\n      <th>0</th>\n      <td>0</td>\n      <td>0</td>\n      <td>0</td>\n    </tr>\n    <tr>\n      <th>1</th>\n      <td>1</td>\n      <td>0</td>\n      <td>1</td>\n    </tr>\n    <tr>\n      <th>2</th>\n      <td>2</td>\n      <td>0</td>\n      <td>0</td>\n    </tr>\n    <tr>\n      <th>3</th>\n      <td>3</td>\n      <td>0</td>\n      <td>1</td>\n    </tr>\n    <tr>\n      <th>4</th>\n      <td>4</td>\n      <td>0</td>\n      <td>0</td>\n    </tr>\n    <tr>\n      <th>5</th>\n      <td>5</td>\n      <td>0</td>\n      <td>0</td>\n    </tr>\n    <tr>\n      <th>6</th>\n      <td>6</td>\n      <td>0</td>\n      <td>0</td>\n    </tr>\n    <tr>\n      <th>7</th>\n      <td>7</td>\n      <td>1</td>\n      <td>1</td>\n    </tr>\n    <tr>\n      <th>8</th>\n      <td>8</td>\n      <td>0</td>\n      <td>0</td>\n    </tr>\n    <tr>\n      <th>9</th>\n      <td>9</td>\n      <td>0</td>\n      <td>0</td>\n    </tr>\n  </tbody>\n</table>\n</div>"
     },
     "execution_count": 5,
     "metadata": {},
     "output_type": "execute_result"
    }
   ],
   "source": [
    "# Load dataset indicating H1N1 and seasonal flu vaccine status\n",
    "data_2 = pd.read_csv(\"Flu_Datasets/training_set_labels.csv\")\n",
    "data_2.head(10)"
   ],
   "metadata": {
    "collapsed": false,
    "ExecuteTime": {
     "end_time": "2023-11-28T06:27:27.637195300Z",
     "start_time": "2023-11-28T06:27:27.562271500Z"
    }
   },
   "id": "d471e62620bdd7c1"
  },
  {
   "cell_type": "markdown",
   "source": [
    "From the two datasets (data_1 and data_2) it is recommended that we merge the two datasets inorder to have a detailed and a more comprehensive dataset with both features and target variables."
   ],
   "metadata": {
    "collapsed": false
   },
   "id": "d20a31dc0513edf1"
  },
  {
   "cell_type": "code",
   "execution_count": 6,
   "outputs": [
    {
     "data": {
      "text/plain": "   respondent_id  h1n1_concern  h1n1_knowledge  behavioral_antiviral_meds  \\\n0              0           1.0             0.0                        0.0   \n1              1           3.0             2.0                        0.0   \n2              2           1.0             1.0                        0.0   \n3              3           1.0             1.0                        0.0   \n4              4           2.0             1.0                        0.0   \n5              5           3.0             1.0                        0.0   \n6              6           0.0             0.0                        0.0   \n7              7           1.0             0.0                        0.0   \n8              8           0.0             2.0                        0.0   \n9              9           2.0             1.0                        0.0   \n\n   behavioral_avoidance  behavioral_face_mask  behavioral_wash_hands  \\\n0                   0.0                   0.0                    0.0   \n1                   1.0                   0.0                    1.0   \n2                   1.0                   0.0                    0.0   \n3                   1.0                   0.0                    1.0   \n4                   1.0                   0.0                    1.0   \n5                   1.0                   0.0                    1.0   \n6                   0.0                   0.0                    0.0   \n7                   1.0                   0.0                    1.0   \n8                   1.0                   0.0                    1.0   \n9                   1.0                   0.0                    0.0   \n\n   behavioral_large_gatherings  behavioral_outside_home  \\\n0                          0.0                      1.0   \n1                          0.0                      1.0   \n2                          0.0                      0.0   \n3                          1.0                      0.0   \n4                          1.0                      0.0   \n5                          0.0                      0.0   \n6                          0.0                      0.0   \n7                          0.0                      0.0   \n8                          1.0                      1.0   \n9                          1.0                      0.0   \n\n   behavioral_touch_face  ...  rent_or_own   employment_status  \\\n0                    1.0  ...          Own  Not in Labor Force   \n1                    1.0  ...         Rent            Employed   \n2                    0.0  ...          Own            Employed   \n3                    0.0  ...         Rent  Not in Labor Force   \n4                    1.0  ...          Own            Employed   \n5                    1.0  ...          Own            Employed   \n6                    0.0  ...          Own            Employed   \n7                    1.0  ...          Own            Employed   \n8                    1.0  ...          Own            Employed   \n9                    1.0  ...          Own  Not in Labor Force   \n\n   hhs_geo_region                census_msa  household_adults  \\\n0        oxchjgsf                   Non-MSA               0.0   \n1        bhuqouqj  MSA, Not Principle  City               0.0   \n2        qufhixun  MSA, Not Principle  City               2.0   \n3        lrircsnp       MSA, Principle City               0.0   \n4        qufhixun  MSA, Not Principle  City               1.0   \n5        atmpeygn       MSA, Principle City               2.0   \n6        qufhixun  MSA, Not Principle  City               0.0   \n7        bhuqouqj                   Non-MSA               2.0   \n8        bhuqouqj  MSA, Not Principle  City               1.0   \n9        qufhixun  MSA, Not Principle  City               0.0   \n\n   household_children  employment_industry  employment_occupation  \\\n0                 0.0                  NaN                    NaN   \n1                 0.0             pxcmvdjn               xgwztkwe   \n2                 0.0             rucpziij               xtkaffoo   \n3                 0.0                  NaN                    NaN   \n4                 0.0             wxleyezf               emcorrxb   \n5                 3.0             saaquncn               vlluhbov   \n6                 0.0             xicduogh               xtkaffoo   \n7                 0.0             pxcmvdjn               xqwwgdyp   \n8                 0.0             xicduogh               ccgxvspp   \n9                 0.0                  NaN                    NaN   \n\n   h1n1_vaccine  seasonal_vaccine  \n0             0                 0  \n1             0                 1  \n2             0                 0  \n3             0                 1  \n4             0                 0  \n5             0                 0  \n6             0                 0  \n7             1                 1  \n8             0                 0  \n9             0                 0  \n\n[10 rows x 38 columns]",
      "text/html": "<div>\n<style scoped>\n    .dataframe tbody tr th:only-of-type {\n        vertical-align: middle;\n    }\n\n    .dataframe tbody tr th {\n        vertical-align: top;\n    }\n\n    .dataframe thead th {\n        text-align: right;\n    }\n</style>\n<table border=\"1\" class=\"dataframe\">\n  <thead>\n    <tr style=\"text-align: right;\">\n      <th></th>\n      <th>respondent_id</th>\n      <th>h1n1_concern</th>\n      <th>h1n1_knowledge</th>\n      <th>behavioral_antiviral_meds</th>\n      <th>behavioral_avoidance</th>\n      <th>behavioral_face_mask</th>\n      <th>behavioral_wash_hands</th>\n      <th>behavioral_large_gatherings</th>\n      <th>behavioral_outside_home</th>\n      <th>behavioral_touch_face</th>\n      <th>...</th>\n      <th>rent_or_own</th>\n      <th>employment_status</th>\n      <th>hhs_geo_region</th>\n      <th>census_msa</th>\n      <th>household_adults</th>\n      <th>household_children</th>\n      <th>employment_industry</th>\n      <th>employment_occupation</th>\n      <th>h1n1_vaccine</th>\n      <th>seasonal_vaccine</th>\n    </tr>\n  </thead>\n  <tbody>\n    <tr>\n      <th>0</th>\n      <td>0</td>\n      <td>1.0</td>\n      <td>0.0</td>\n      <td>0.0</td>\n      <td>0.0</td>\n      <td>0.0</td>\n      <td>0.0</td>\n      <td>0.0</td>\n      <td>1.0</td>\n      <td>1.0</td>\n      <td>...</td>\n      <td>Own</td>\n      <td>Not in Labor Force</td>\n      <td>oxchjgsf</td>\n      <td>Non-MSA</td>\n      <td>0.0</td>\n      <td>0.0</td>\n      <td>NaN</td>\n      <td>NaN</td>\n      <td>0</td>\n      <td>0</td>\n    </tr>\n    <tr>\n      <th>1</th>\n      <td>1</td>\n      <td>3.0</td>\n      <td>2.0</td>\n      <td>0.0</td>\n      <td>1.0</td>\n      <td>0.0</td>\n      <td>1.0</td>\n      <td>0.0</td>\n      <td>1.0</td>\n      <td>1.0</td>\n      <td>...</td>\n      <td>Rent</td>\n      <td>Employed</td>\n      <td>bhuqouqj</td>\n      <td>MSA, Not Principle  City</td>\n      <td>0.0</td>\n      <td>0.0</td>\n      <td>pxcmvdjn</td>\n      <td>xgwztkwe</td>\n      <td>0</td>\n      <td>1</td>\n    </tr>\n    <tr>\n      <th>2</th>\n      <td>2</td>\n      <td>1.0</td>\n      <td>1.0</td>\n      <td>0.0</td>\n      <td>1.0</td>\n      <td>0.0</td>\n      <td>0.0</td>\n      <td>0.0</td>\n      <td>0.0</td>\n      <td>0.0</td>\n      <td>...</td>\n      <td>Own</td>\n      <td>Employed</td>\n      <td>qufhixun</td>\n      <td>MSA, Not Principle  City</td>\n      <td>2.0</td>\n      <td>0.0</td>\n      <td>rucpziij</td>\n      <td>xtkaffoo</td>\n      <td>0</td>\n      <td>0</td>\n    </tr>\n    <tr>\n      <th>3</th>\n      <td>3</td>\n      <td>1.0</td>\n      <td>1.0</td>\n      <td>0.0</td>\n      <td>1.0</td>\n      <td>0.0</td>\n      <td>1.0</td>\n      <td>1.0</td>\n      <td>0.0</td>\n      <td>0.0</td>\n      <td>...</td>\n      <td>Rent</td>\n      <td>Not in Labor Force</td>\n      <td>lrircsnp</td>\n      <td>MSA, Principle City</td>\n      <td>0.0</td>\n      <td>0.0</td>\n      <td>NaN</td>\n      <td>NaN</td>\n      <td>0</td>\n      <td>1</td>\n    </tr>\n    <tr>\n      <th>4</th>\n      <td>4</td>\n      <td>2.0</td>\n      <td>1.0</td>\n      <td>0.0</td>\n      <td>1.0</td>\n      <td>0.0</td>\n      <td>1.0</td>\n      <td>1.0</td>\n      <td>0.0</td>\n      <td>1.0</td>\n      <td>...</td>\n      <td>Own</td>\n      <td>Employed</td>\n      <td>qufhixun</td>\n      <td>MSA, Not Principle  City</td>\n      <td>1.0</td>\n      <td>0.0</td>\n      <td>wxleyezf</td>\n      <td>emcorrxb</td>\n      <td>0</td>\n      <td>0</td>\n    </tr>\n    <tr>\n      <th>5</th>\n      <td>5</td>\n      <td>3.0</td>\n      <td>1.0</td>\n      <td>0.0</td>\n      <td>1.0</td>\n      <td>0.0</td>\n      <td>1.0</td>\n      <td>0.0</td>\n      <td>0.0</td>\n      <td>1.0</td>\n      <td>...</td>\n      <td>Own</td>\n      <td>Employed</td>\n      <td>atmpeygn</td>\n      <td>MSA, Principle City</td>\n      <td>2.0</td>\n      <td>3.0</td>\n      <td>saaquncn</td>\n      <td>vlluhbov</td>\n      <td>0</td>\n      <td>0</td>\n    </tr>\n    <tr>\n      <th>6</th>\n      <td>6</td>\n      <td>0.0</td>\n      <td>0.0</td>\n      <td>0.0</td>\n      <td>0.0</td>\n      <td>0.0</td>\n      <td>0.0</td>\n      <td>0.0</td>\n      <td>0.0</td>\n      <td>0.0</td>\n      <td>...</td>\n      <td>Own</td>\n      <td>Employed</td>\n      <td>qufhixun</td>\n      <td>MSA, Not Principle  City</td>\n      <td>0.0</td>\n      <td>0.0</td>\n      <td>xicduogh</td>\n      <td>xtkaffoo</td>\n      <td>0</td>\n      <td>0</td>\n    </tr>\n    <tr>\n      <th>7</th>\n      <td>7</td>\n      <td>1.0</td>\n      <td>0.0</td>\n      <td>0.0</td>\n      <td>1.0</td>\n      <td>0.0</td>\n      <td>1.0</td>\n      <td>0.0</td>\n      <td>0.0</td>\n      <td>1.0</td>\n      <td>...</td>\n      <td>Own</td>\n      <td>Employed</td>\n      <td>bhuqouqj</td>\n      <td>Non-MSA</td>\n      <td>2.0</td>\n      <td>0.0</td>\n      <td>pxcmvdjn</td>\n      <td>xqwwgdyp</td>\n      <td>1</td>\n      <td>1</td>\n    </tr>\n    <tr>\n      <th>8</th>\n      <td>8</td>\n      <td>0.0</td>\n      <td>2.0</td>\n      <td>0.0</td>\n      <td>1.0</td>\n      <td>0.0</td>\n      <td>1.0</td>\n      <td>1.0</td>\n      <td>1.0</td>\n      <td>1.0</td>\n      <td>...</td>\n      <td>Own</td>\n      <td>Employed</td>\n      <td>bhuqouqj</td>\n      <td>MSA, Not Principle  City</td>\n      <td>1.0</td>\n      <td>0.0</td>\n      <td>xicduogh</td>\n      <td>ccgxvspp</td>\n      <td>0</td>\n      <td>0</td>\n    </tr>\n    <tr>\n      <th>9</th>\n      <td>9</td>\n      <td>2.0</td>\n      <td>1.0</td>\n      <td>0.0</td>\n      <td>1.0</td>\n      <td>0.0</td>\n      <td>0.0</td>\n      <td>1.0</td>\n      <td>0.0</td>\n      <td>1.0</td>\n      <td>...</td>\n      <td>Own</td>\n      <td>Not in Labor Force</td>\n      <td>qufhixun</td>\n      <td>MSA, Not Principle  City</td>\n      <td>0.0</td>\n      <td>0.0</td>\n      <td>NaN</td>\n      <td>NaN</td>\n      <td>0</td>\n      <td>0</td>\n    </tr>\n  </tbody>\n</table>\n<p>10 rows × 38 columns</p>\n</div>"
     },
     "execution_count": 6,
     "metadata": {},
     "output_type": "execute_result"
    }
   ],
   "source": [
    "# Merging the two dataframes data_1 and data_2\n",
    "combined_data = pd.merge(data_1, data_2, on=\"respondent_id\")\n",
    "combined_data.head(10)"
   ],
   "metadata": {
    "collapsed": false,
    "ExecuteTime": {
     "end_time": "2023-11-28T06:52:45.968263200Z",
     "start_time": "2023-11-28T06:52:45.819956400Z"
    }
   },
   "id": "9916f945e6805253"
  },
  {
   "cell_type": "markdown",
   "source": [
    "Exploring the Newly Created Datafarme to get an overview"
   ],
   "metadata": {
    "collapsed": false
   },
   "id": "13af236785db60d7"
  },
  {
   "cell_type": "code",
   "execution_count": 7,
   "outputs": [
    {
     "name": "stdout",
     "output_type": "stream",
     "text": [
      "<class 'pandas.core.frame.DataFrame'>\n",
      "Int64Index: 26707 entries, 0 to 26706\n",
      "Data columns (total 38 columns):\n",
      " #   Column                       Non-Null Count  Dtype  \n",
      "---  ------                       --------------  -----  \n",
      " 0   respondent_id                26707 non-null  int64  \n",
      " 1   h1n1_concern                 26615 non-null  float64\n",
      " 2   h1n1_knowledge               26591 non-null  float64\n",
      " 3   behavioral_antiviral_meds    26636 non-null  float64\n",
      " 4   behavioral_avoidance         26499 non-null  float64\n",
      " 5   behavioral_face_mask         26688 non-null  float64\n",
      " 6   behavioral_wash_hands        26665 non-null  float64\n",
      " 7   behavioral_large_gatherings  26620 non-null  float64\n",
      " 8   behavioral_outside_home      26625 non-null  float64\n",
      " 9   behavioral_touch_face        26579 non-null  float64\n",
      " 10  doctor_recc_h1n1             24547 non-null  float64\n",
      " 11  doctor_recc_seasonal         24547 non-null  float64\n",
      " 12  chronic_med_condition        25736 non-null  float64\n",
      " 13  child_under_6_months         25887 non-null  float64\n",
      " 14  health_worker                25903 non-null  float64\n",
      " 15  health_insurance             14433 non-null  float64\n",
      " 16  opinion_h1n1_vacc_effective  26316 non-null  float64\n",
      " 17  opinion_h1n1_risk            26319 non-null  float64\n",
      " 18  opinion_h1n1_sick_from_vacc  26312 non-null  float64\n",
      " 19  opinion_seas_vacc_effective  26245 non-null  float64\n",
      " 20  opinion_seas_risk            26193 non-null  float64\n",
      " 21  opinion_seas_sick_from_vacc  26170 non-null  float64\n",
      " 22  age_group                    26707 non-null  object \n",
      " 23  education                    25300 non-null  object \n",
      " 24  race                         26707 non-null  object \n",
      " 25  sex                          26707 non-null  object \n",
      " 26  income_poverty               22284 non-null  object \n",
      " 27  marital_status               25299 non-null  object \n",
      " 28  rent_or_own                  24665 non-null  object \n",
      " 29  employment_status            25244 non-null  object \n",
      " 30  hhs_geo_region               26707 non-null  object \n",
      " 31  census_msa                   26707 non-null  object \n",
      " 32  household_adults             26458 non-null  float64\n",
      " 33  household_children           26458 non-null  float64\n",
      " 34  employment_industry          13377 non-null  object \n",
      " 35  employment_occupation        13237 non-null  object \n",
      " 36  h1n1_vaccine                 26707 non-null  int64  \n",
      " 37  seasonal_vaccine             26707 non-null  int64  \n",
      "dtypes: float64(23), int64(3), object(12)\n",
      "memory usage: 7.9+ MB\n"
     ]
    }
   ],
   "source": [
    "# Getting Information about the dataset\n",
    "combined_data.info()"
   ],
   "metadata": {
    "collapsed": false,
    "ExecuteTime": {
     "end_time": "2023-11-28T07:02:43.077606200Z",
     "start_time": "2023-11-28T07:02:42.971251500Z"
    }
   },
   "id": "9bfb5dec8eb769be"
  },
  {
   "cell_type": "code",
   "execution_count": 8,
   "outputs": [
    {
     "data": {
      "text/plain": "       respondent_id  h1n1_concern  h1n1_knowledge  behavioral_antiviral_meds  \\\ncount   26707.000000  26615.000000    26591.000000               26636.000000   \nmean    13353.000000      1.618486        1.262532                   0.048844   \nstd      7709.791156      0.910311        0.618149                   0.215545   \nmin         0.000000      0.000000        0.000000                   0.000000   \n25%      6676.500000      1.000000        1.000000                   0.000000   \n50%     13353.000000      2.000000        1.000000                   0.000000   \n75%     20029.500000      2.000000        2.000000                   0.000000   \nmax     26706.000000      3.000000        2.000000                   1.000000   \n\n       behavioral_avoidance  behavioral_face_mask  behavioral_wash_hands  \\\ncount          26499.000000          26688.000000           26665.000000   \nmean               0.725612              0.068982               0.825614   \nstd                0.446214              0.253429               0.379448   \nmin                0.000000              0.000000               0.000000   \n25%                0.000000              0.000000               1.000000   \n50%                1.000000              0.000000               1.000000   \n75%                1.000000              0.000000               1.000000   \nmax                1.000000              1.000000               1.000000   \n\n       behavioral_large_gatherings  behavioral_outside_home  \\\ncount                  26620.00000             26625.000000   \nmean                       0.35864                 0.337315   \nstd                        0.47961                 0.472802   \nmin                        0.00000                 0.000000   \n25%                        0.00000                 0.000000   \n50%                        0.00000                 0.000000   \n75%                        1.00000                 1.000000   \nmax                        1.00000                 1.000000   \n\n       behavioral_touch_face  ...  opinion_h1n1_vacc_effective  \\\ncount           26579.000000  ...                 26316.000000   \nmean                0.677264  ...                     3.850623   \nstd                 0.467531  ...                     1.007436   \nmin                 0.000000  ...                     1.000000   \n25%                 0.000000  ...                     3.000000   \n50%                 1.000000  ...                     4.000000   \n75%                 1.000000  ...                     5.000000   \nmax                 1.000000  ...                     5.000000   \n\n       opinion_h1n1_risk  opinion_h1n1_sick_from_vacc  \\\ncount       26319.000000                 26312.000000   \nmean            2.342566                     2.357670   \nstd             1.285539                     1.362766   \nmin             1.000000                     1.000000   \n25%             1.000000                     1.000000   \n50%             2.000000                     2.000000   \n75%             4.000000                     4.000000   \nmax             5.000000                     5.000000   \n\n       opinion_seas_vacc_effective  opinion_seas_risk  \\\ncount                 26245.000000       26193.000000   \nmean                      4.025986           2.719162   \nstd                       1.086565           1.385055   \nmin                       1.000000           1.000000   \n25%                       4.000000           2.000000   \n50%                       4.000000           2.000000   \n75%                       5.000000           4.000000   \nmax                       5.000000           5.000000   \n\n       opinion_seas_sick_from_vacc  household_adults  household_children  \\\ncount                 26170.000000      26458.000000        26458.000000   \nmean                      2.118112          0.886499            0.534583   \nstd                       1.332950          0.753422            0.928173   \nmin                       1.000000          0.000000            0.000000   \n25%                       1.000000          0.000000            0.000000   \n50%                       2.000000          1.000000            0.000000   \n75%                       4.000000          1.000000            1.000000   \nmax                       5.000000          3.000000            3.000000   \n\n       h1n1_vaccine  seasonal_vaccine  \ncount  26707.000000      26707.000000  \nmean       0.212454          0.465608  \nstd        0.409052          0.498825  \nmin        0.000000          0.000000  \n25%        0.000000          0.000000  \n50%        0.000000          0.000000  \n75%        0.000000          1.000000  \nmax        1.000000          1.000000  \n\n[8 rows x 26 columns]",
      "text/html": "<div>\n<style scoped>\n    .dataframe tbody tr th:only-of-type {\n        vertical-align: middle;\n    }\n\n    .dataframe tbody tr th {\n        vertical-align: top;\n    }\n\n    .dataframe thead th {\n        text-align: right;\n    }\n</style>\n<table border=\"1\" class=\"dataframe\">\n  <thead>\n    <tr style=\"text-align: right;\">\n      <th></th>\n      <th>respondent_id</th>\n      <th>h1n1_concern</th>\n      <th>h1n1_knowledge</th>\n      <th>behavioral_antiviral_meds</th>\n      <th>behavioral_avoidance</th>\n      <th>behavioral_face_mask</th>\n      <th>behavioral_wash_hands</th>\n      <th>behavioral_large_gatherings</th>\n      <th>behavioral_outside_home</th>\n      <th>behavioral_touch_face</th>\n      <th>...</th>\n      <th>opinion_h1n1_vacc_effective</th>\n      <th>opinion_h1n1_risk</th>\n      <th>opinion_h1n1_sick_from_vacc</th>\n      <th>opinion_seas_vacc_effective</th>\n      <th>opinion_seas_risk</th>\n      <th>opinion_seas_sick_from_vacc</th>\n      <th>household_adults</th>\n      <th>household_children</th>\n      <th>h1n1_vaccine</th>\n      <th>seasonal_vaccine</th>\n    </tr>\n  </thead>\n  <tbody>\n    <tr>\n      <th>count</th>\n      <td>26707.000000</td>\n      <td>26615.000000</td>\n      <td>26591.000000</td>\n      <td>26636.000000</td>\n      <td>26499.000000</td>\n      <td>26688.000000</td>\n      <td>26665.000000</td>\n      <td>26620.00000</td>\n      <td>26625.000000</td>\n      <td>26579.000000</td>\n      <td>...</td>\n      <td>26316.000000</td>\n      <td>26319.000000</td>\n      <td>26312.000000</td>\n      <td>26245.000000</td>\n      <td>26193.000000</td>\n      <td>26170.000000</td>\n      <td>26458.000000</td>\n      <td>26458.000000</td>\n      <td>26707.000000</td>\n      <td>26707.000000</td>\n    </tr>\n    <tr>\n      <th>mean</th>\n      <td>13353.000000</td>\n      <td>1.618486</td>\n      <td>1.262532</td>\n      <td>0.048844</td>\n      <td>0.725612</td>\n      <td>0.068982</td>\n      <td>0.825614</td>\n      <td>0.35864</td>\n      <td>0.337315</td>\n      <td>0.677264</td>\n      <td>...</td>\n      <td>3.850623</td>\n      <td>2.342566</td>\n      <td>2.357670</td>\n      <td>4.025986</td>\n      <td>2.719162</td>\n      <td>2.118112</td>\n      <td>0.886499</td>\n      <td>0.534583</td>\n      <td>0.212454</td>\n      <td>0.465608</td>\n    </tr>\n    <tr>\n      <th>std</th>\n      <td>7709.791156</td>\n      <td>0.910311</td>\n      <td>0.618149</td>\n      <td>0.215545</td>\n      <td>0.446214</td>\n      <td>0.253429</td>\n      <td>0.379448</td>\n      <td>0.47961</td>\n      <td>0.472802</td>\n      <td>0.467531</td>\n      <td>...</td>\n      <td>1.007436</td>\n      <td>1.285539</td>\n      <td>1.362766</td>\n      <td>1.086565</td>\n      <td>1.385055</td>\n      <td>1.332950</td>\n      <td>0.753422</td>\n      <td>0.928173</td>\n      <td>0.409052</td>\n      <td>0.498825</td>\n    </tr>\n    <tr>\n      <th>min</th>\n      <td>0.000000</td>\n      <td>0.000000</td>\n      <td>0.000000</td>\n      <td>0.000000</td>\n      <td>0.000000</td>\n      <td>0.000000</td>\n      <td>0.000000</td>\n      <td>0.00000</td>\n      <td>0.000000</td>\n      <td>0.000000</td>\n      <td>...</td>\n      <td>1.000000</td>\n      <td>1.000000</td>\n      <td>1.000000</td>\n      <td>1.000000</td>\n      <td>1.000000</td>\n      <td>1.000000</td>\n      <td>0.000000</td>\n      <td>0.000000</td>\n      <td>0.000000</td>\n      <td>0.000000</td>\n    </tr>\n    <tr>\n      <th>25%</th>\n      <td>6676.500000</td>\n      <td>1.000000</td>\n      <td>1.000000</td>\n      <td>0.000000</td>\n      <td>0.000000</td>\n      <td>0.000000</td>\n      <td>1.000000</td>\n      <td>0.00000</td>\n      <td>0.000000</td>\n      <td>0.000000</td>\n      <td>...</td>\n      <td>3.000000</td>\n      <td>1.000000</td>\n      <td>1.000000</td>\n      <td>4.000000</td>\n      <td>2.000000</td>\n      <td>1.000000</td>\n      <td>0.000000</td>\n      <td>0.000000</td>\n      <td>0.000000</td>\n      <td>0.000000</td>\n    </tr>\n    <tr>\n      <th>50%</th>\n      <td>13353.000000</td>\n      <td>2.000000</td>\n      <td>1.000000</td>\n      <td>0.000000</td>\n      <td>1.000000</td>\n      <td>0.000000</td>\n      <td>1.000000</td>\n      <td>0.00000</td>\n      <td>0.000000</td>\n      <td>1.000000</td>\n      <td>...</td>\n      <td>4.000000</td>\n      <td>2.000000</td>\n      <td>2.000000</td>\n      <td>4.000000</td>\n      <td>2.000000</td>\n      <td>2.000000</td>\n      <td>1.000000</td>\n      <td>0.000000</td>\n      <td>0.000000</td>\n      <td>0.000000</td>\n    </tr>\n    <tr>\n      <th>75%</th>\n      <td>20029.500000</td>\n      <td>2.000000</td>\n      <td>2.000000</td>\n      <td>0.000000</td>\n      <td>1.000000</td>\n      <td>0.000000</td>\n      <td>1.000000</td>\n      <td>1.00000</td>\n      <td>1.000000</td>\n      <td>1.000000</td>\n      <td>...</td>\n      <td>5.000000</td>\n      <td>4.000000</td>\n      <td>4.000000</td>\n      <td>5.000000</td>\n      <td>4.000000</td>\n      <td>4.000000</td>\n      <td>1.000000</td>\n      <td>1.000000</td>\n      <td>0.000000</td>\n      <td>1.000000</td>\n    </tr>\n    <tr>\n      <th>max</th>\n      <td>26706.000000</td>\n      <td>3.000000</td>\n      <td>2.000000</td>\n      <td>1.000000</td>\n      <td>1.000000</td>\n      <td>1.000000</td>\n      <td>1.000000</td>\n      <td>1.00000</td>\n      <td>1.000000</td>\n      <td>1.000000</td>\n      <td>...</td>\n      <td>5.000000</td>\n      <td>5.000000</td>\n      <td>5.000000</td>\n      <td>5.000000</td>\n      <td>5.000000</td>\n      <td>5.000000</td>\n      <td>3.000000</td>\n      <td>3.000000</td>\n      <td>1.000000</td>\n      <td>1.000000</td>\n    </tr>\n  </tbody>\n</table>\n<p>8 rows × 26 columns</p>\n</div>"
     },
     "execution_count": 8,
     "metadata": {},
     "output_type": "execute_result"
    }
   ],
   "source": [
    "# Checking the summary Statistics\n",
    "combined_data.describe()"
   ],
   "metadata": {
    "collapsed": false,
    "ExecuteTime": {
     "end_time": "2023-11-28T07:03:36.105752100Z",
     "start_time": "2023-11-28T07:03:35.884749800Z"
    }
   },
   "id": "cbec9a0e528cd132"
  },
  {
   "cell_type": "code",
   "execution_count": 9,
   "outputs": [
    {
     "data": {
      "text/plain": "(26707, 38)"
     },
     "execution_count": 9,
     "metadata": {},
     "output_type": "execute_result"
    }
   ],
   "source": [
    "# Checking the shape of the dataframe\n",
    "combined_data.shape"
   ],
   "metadata": {
    "collapsed": false,
    "ExecuteTime": {
     "end_time": "2023-11-28T07:05:02.452341800Z",
     "start_time": "2023-11-28T07:05:02.410672700Z"
    }
   },
   "id": "11dd93b3ef874520"
  },
  {
   "cell_type": "code",
   "execution_count": null,
   "outputs": [],
   "source": [],
   "metadata": {
    "collapsed": false
   },
   "id": "ebe14eb483764870"
  }
 ],
 "metadata": {
  "kernelspec": {
   "display_name": "Python 3",
   "language": "python",
   "name": "python3"
  },
  "language_info": {
   "codemirror_mode": {
    "name": "ipython",
    "version": 2
   },
   "file_extension": ".py",
   "mimetype": "text/x-python",
   "name": "python",
   "nbconvert_exporter": "python",
   "pygments_lexer": "ipython2",
   "version": "2.7.6"
  }
 },
 "nbformat": 4,
 "nbformat_minor": 5
}
